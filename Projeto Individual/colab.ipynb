{
  "nbformat": 4,
  "nbformat_minor": 0,
  "metadata": {
    "colab": {
      "name": "Soulcode_projeto_indv.ipynb",
      "provenance": [],
      "collapsed_sections": [
        "O2d6pJYQr1Xi",
        "sySnxyR1y2jS",
        "Ar4-OghnzHex",
        "ICa4-dsvy8F7",
        "jm2slU6zz0li",
        "HmKIAJqGt7bH",
        "6mgoc2kSHpsL",
        "xofSLcvouxh9",
        "AvFSIbGOS62P",
        "UHk-XpcDRYmV",
        "XKnubt_DZcnX",
        "QPbiTUdUCKqS",
        "Vt2aQmhKC2u7",
        "B4RpOgkWTjQK",
        "lcflCidFDF6j",
        "vCQrAU7FDTCN",
        "utDsWoIdDWHe",
        "3RwHg3xHDhq6",
        "Wv56o9oNDsY3",
        "4C-40FXVpxSu",
        "C9agclF6DxjP"
      ]
    },
    "kernelspec": {
      "name": "python3",
      "display_name": "Python 3"
    },
    "language_info": {
      "name": "python"
    }
  },
  "cells": [
    {
      "cell_type": "markdown",
      "source": [
        "# PROJETO INDIVIDUAL\n",
        "\n",
        "Exercício realizado no Bootcamp de Engenharia de Dados da SoulCode"
      ],
      "metadata": {
        "id": "OJAJTsjToNcH"
      }
    },
    {
      "cell_type": "markdown",
      "source": [
        "## ENUNCIADO"
      ],
      "metadata": {
        "id": "O2d6pJYQr1Xi"
      }
    },
    {
      "cell_type": "markdown",
      "source": [
        "Nivel Infra\n",
        "- O Dataset deve ser salvo em ambiente cloud(Cloud Storage).\n",
        "- O arquivo original e tratado deve ser salvo em MongoDB Atlas em coleções diferentes.\n",
        "- Os DataFrames devem ser obrigatoriamente salvos em uma bucket do CloudStorage.<br><br>\n",
        "\n",
        "Nivel Pandas\n",
        "- O arquivo está em outra linguagem e deve ter seus dados traduzidos para Português-BR.\n",
        "- Realizar a extração corretamente para um dataframe.\n",
        "- Verificar a existência de dados inconsistentes e realizar a limpeza para NaN ou NA.\n",
        "- Realizar o drop(se necessário) de colunas do dataframe realizando o comentário do porque da exclusão.\n",
        "- Todos os passos devem ser comentados.<br><br>\n",
        "\n",
        "Nivel PySpark (Funções básicas vistas em aula)\n",
        "- Deverá ser montada a estrutura do DataFrame utilizando o StructType.\n",
        "- Verificar a existência de dados inconsistentes, nulos e realizar a limpeza.\n",
        "- Verificar a necessidade de drop em colunas ou linhas. Caso seja necessário, fazer comentário do porque.\n",
        "- Realizar a mudança de nome de pelo menos 2 colunas.\n",
        "- Deverá criar pelo menos duas novas colunas contendo alguma informação relevante sobre as outras colunas já existentes (Funções de Agrupamento, Agregação ou Joins). (Use a sua capacidade analítica).\n",
        "- Deverá utilizar filtros, ordenação e agrupamento, trazendo dados relevantes para o negócio em questão. (Use a sua capacidade analítica)\n",
        "- Utilizar pelo menos duas Window Functions.<br><br>\n",
        "\n",
        "Nivel SparkSQL\n",
        "- Utilizar no minimo 5 consultas diferentes utilizando o SparkSQL, comentando o porquê de ter escolhido essas funções e explicando o que cada consulta faz.<br><br>\n",
        "\n",
        "Nível DataStudio\n",
        "- Construir um dashboard (maximo 1 pagina) para apresentação dos insights.<br><br>\n",
        "\n",
        "Ferramentas:\n",
        "- Colab ou Ides | Google Cloud | Data Studio"
      ],
      "metadata": {
        "id": "FQf6QwaooYxD"
      }
    },
    {
      "cell_type": "markdown",
      "source": [
        "## INSTALL E BIBLIOTECAS"
      ],
      "metadata": {
        "id": "wM6Lf5qmrcrX"
      }
    },
    {
      "cell_type": "markdown",
      "source": [
        "### GOOGLE"
      ],
      "metadata": {
        "id": "sySnxyR1y2jS"
      }
    },
    {
      "cell_type": "code",
      "source": [
        "!pip install gcsfs"
      ],
      "metadata": {
        "id": "Onhk6GVTt3B-"
      },
      "execution_count": null,
      "outputs": []
    },
    {
      "cell_type": "code",
      "source": [
        "from google.cloud import storage\n",
        "from google.colab import drive\n",
        "import os"
      ],
      "metadata": {
        "id": "Y_j64JW7txcm"
      },
      "execution_count": null,
      "outputs": []
    },
    {
      "cell_type": "markdown",
      "source": [
        "### MONGO"
      ],
      "metadata": {
        "id": "Ar4-OghnzHex"
      }
    },
    {
      "cell_type": "code",
      "execution_count": null,
      "metadata": {
        "id": "iBdFJWQtmUZo"
      },
      "outputs": [],
      "source": [
        "from pymongo import MongoClient\n",
        "!cp /content/drive/MyDrive/SoulCode/modulos/mongo.py .\n",
        "from mongo import get_mongo_path"
      ]
    },
    {
      "cell_type": "markdown",
      "source": [
        "### PANDAS"
      ],
      "metadata": {
        "id": "ICa4-dsvy8F7"
      }
    },
    {
      "cell_type": "code",
      "source": [
        "import pandas as pd"
      ],
      "metadata": {
        "id": "kcHESXlotyze"
      },
      "execution_count": null,
      "outputs": []
    },
    {
      "cell_type": "markdown",
      "source": [
        "### SPARK"
      ],
      "metadata": {
        "id": "jm2slU6zz0li"
      }
    },
    {
      "cell_type": "code",
      "source": [
        "!pip install pyspark\n",
        "from pyspark.sql import SparkSession\n",
        "from pyspark import SparkConf\n",
        "import pyspark.sql.functions as F\n",
        "from pyspark.sql.types import *\n",
        "from pyspark.sql.window import Window"
      ],
      "metadata": {
        "id": "9glVnrbTyjTi",
        "colab": {
          "base_uri": "https://localhost:8080/"
        },
        "outputId": "595b2276-11e5-4cd5-f1a4-cc9a035f4b1e"
      },
      "execution_count": null,
      "outputs": [
        {
          "output_type": "stream",
          "name": "stdout",
          "text": [
            "Looking in indexes: https://pypi.org/simple, https://us-python.pkg.dev/colab-wheels/public/simple/\n",
            "Collecting pyspark\n",
            "  Downloading pyspark-3.2.1.tar.gz (281.4 MB)\n",
            "\u001b[K     |████████████████████████████████| 281.4 MB 31 kB/s \n",
            "\u001b[?25hCollecting py4j==0.10.9.3\n",
            "  Downloading py4j-0.10.9.3-py2.py3-none-any.whl (198 kB)\n",
            "\u001b[K     |████████████████████████████████| 198 kB 48.6 MB/s \n",
            "\u001b[?25hBuilding wheels for collected packages: pyspark\n",
            "  Building wheel for pyspark (setup.py) ... \u001b[?25l\u001b[?25hdone\n",
            "  Created wheel for pyspark: filename=pyspark-3.2.1-py2.py3-none-any.whl size=281853642 sha256=4155f85a9e8aa5be8e5bbe767772ef472cb8ade962fcc9e6179d53960957ba8f\n",
            "  Stored in directory: /root/.cache/pip/wheels/9f/f5/07/7cd8017084dce4e93e84e92efd1e1d5334db05f2e83bcef74f\n",
            "Successfully built pyspark\n",
            "Installing collected packages: py4j, pyspark\n",
            "Successfully installed py4j-0.10.9.3 pyspark-3.2.1\n"
          ]
        }
      ]
    },
    {
      "cell_type": "markdown",
      "source": [
        "## CONEXÕES"
      ],
      "metadata": {
        "id": "EV-DM5T_vgny"
      }
    },
    {
      "cell_type": "markdown",
      "source": [
        "### CONEXÃO GOOGLE"
      ],
      "metadata": {
        "id": "HmKIAJqGt7bH"
      }
    },
    {
      "cell_type": "markdown",
      "source": [
        "Conexão com o Google Drive"
      ],
      "metadata": {
        "id": "qKPuTO3NFaXg"
      }
    },
    {
      "cell_type": "code",
      "source": [
        "drive.mount('/content/drive')"
      ],
      "metadata": {
        "colab": {
          "base_uri": "https://localhost:8080/"
        },
        "id": "YXU2QjP5E5I3",
        "outputId": "beb21fa3-94ed-42a5-8a79-cd937df86efb"
      },
      "execution_count": null,
      "outputs": [
        {
          "output_type": "stream",
          "name": "stdout",
          "text": [
            "Drive already mounted at /content/drive; to attempt to forcibly remount, call drive.mount(\"/content/drive\", force_remount=True).\n"
          ]
        }
      ]
    },
    {
      "cell_type": "markdown",
      "source": [
        "Obtendo a chave de acesso para a Google Cloud Platform(GCP) em uma pasta do Drive"
      ],
      "metadata": {
        "id": "5rBbU6XZFfGf"
      }
    },
    {
      "cell_type": "code",
      "source": [
        "serviceAccount = '/content/drive/MyDrive/SoulCode/Datasets/macro-mercury-349020-d9ed9a670580.json'\n",
        "os.environ['GOOGLE_APPLICATION_CREDENTIALS'] = serviceAccount"
      ],
      "metadata": {
        "id": "48Ew5Rlrt7BS"
      },
      "execution_count": null,
      "outputs": []
    },
    {
      "cell_type": "markdown",
      "source": [
        "Conexão com a GCP"
      ],
      "metadata": {
        "id": "0ithjyfQFsJY"
      }
    },
    {
      "cell_type": "code",
      "source": [
        "client_bucket = storage.Client()\n",
        "bucket = client_bucket.get_bucket('soulcode')"
      ],
      "metadata": {
        "id": "ZZZ5cq_BuUT2"
      },
      "execution_count": null,
      "outputs": []
    },
    {
      "cell_type": "markdown",
      "source": [
        "\n",
        "\n",
        "---\n",
        "\n",
        "\n",
        "\n",
        "---\n",
        "\n",
        "\n",
        "\n",
        "---\n"
      ],
      "metadata": {
        "id": "rlkWfO1ivduO"
      }
    },
    {
      "cell_type": "markdown",
      "source": [
        "### CONEXÃO MONGO"
      ],
      "metadata": {
        "id": "T0a3VOlrAQia"
      }
    },
    {
      "cell_type": "markdown",
      "source": [
        "Obtendo o IP do Colab para liberar conexão no MongoDB Atlas"
      ],
      "metadata": {
        "id": "bDoxNEr6SJHP"
      }
    },
    {
      "cell_type": "markdown",
      "source": [
        "Obtendo a string de conexão\n"
      ],
      "metadata": {
        "id": "lNLoENnjSXjj"
      }
    },
    {
      "cell_type": "code",
      "source": [
        "conn = get_mongo_path()"
      ],
      "metadata": {
        "id": "wO8ykR5eBiNK"
      },
      "execution_count": null,
      "outputs": []
    },
    {
      "cell_type": "markdown",
      "source": [
        "Conectando com o Mongo"
      ],
      "metadata": {
        "id": "V5Ivt-9Cv4jI"
      }
    },
    {
      "cell_type": "code",
      "source": [
        "mongo_client = MongoClient(conn)\n",
        "db = mongo_client['soulcode']"
      ],
      "metadata": {
        "id": "zJ99oxi1v2AR"
      },
      "execution_count": null,
      "outputs": []
    },
    {
      "cell_type": "markdown",
      "source": [
        "Criando a collection de backup"
      ],
      "metadata": {
        "id": "r5Jv_DKbwGfz"
      }
    },
    {
      "cell_type": "code",
      "source": [
        "db.create_collection('marketing_campaing_original')\n",
        "collection_backup = db['marketing_campaing_original']"
      ],
      "metadata": {
        "id": "rzyvQ-KEvria"
      },
      "execution_count": null,
      "outputs": []
    },
    {
      "cell_type": "markdown",
      "source": [
        "### CONEXÃO SPARK"
      ],
      "metadata": {
        "id": "6mgoc2kSHpsL"
      }
    },
    {
      "cell_type": "code",
      "source": [
        "bucket.blob('marketing_campaign.csv')\n",
        "path = 'gs://soulcode/Original/marketing_campaign.csv'\n",
        "spark = (SparkSession.builder\n",
        "                      .master(\"local\")\n",
        "                      .appName(\"Projeto Individual SoulCode\")\n",
        "                      .config(\"spark.ui.port\",\"4050\")\n",
        "                      .config(\"spark.jars\", 'https://storage.googleapis.com/hadoop-lib/gcs/gcs-connector-hadoop2-latest.jar')\n",
        "                      .getOrCreate()\n",
        ")"
      ],
      "metadata": {
        "id": "yMMOyZtLD0yL"
      },
      "execution_count": null,
      "outputs": []
    },
    {
      "cell_type": "markdown",
      "source": [
        "\n",
        "Verificação da conexão"
      ],
      "metadata": {
        "id": "b7xlHZfUH_xs"
      }
    },
    {
      "cell_type": "code",
      "source": [
        "spark"
      ],
      "metadata": {
        "id": "IesUsHEBH5t7"
      },
      "execution_count": null,
      "outputs": []
    },
    {
      "cell_type": "markdown",
      "source": [
        "## ETL - PANDAS"
      ],
      "metadata": {
        "id": "VE2y9AUrEoF7"
      }
    },
    {
      "cell_type": "markdown",
      "source": [
        "### EXTRAÇÃO - LEITURA DE DADOS\n",
        "\n",
        "Lendo o arquivo csv do bucket 'soulcode'"
      ],
      "metadata": {
        "id": "xofSLcvouxh9"
      }
    },
    {
      "cell_type": "code",
      "source": [
        "df = pd.read_csv('https://storage.googleapis.com/soulcode/Original/marketing_campaign.csv', sep=';')"
      ],
      "metadata": {
        "id": "qsBMnyD5uxEF"
      },
      "execution_count": null,
      "outputs": []
    },
    {
      "cell_type": "markdown",
      "source": [
        "#### BACKUP"
      ],
      "metadata": {
        "id": "AvFSIbGOS62P"
      }
    },
    {
      "cell_type": "markdown",
      "source": [
        "Backup do dataframe\n"
      ],
      "metadata": {
        "id": "900v0cIwwm-m"
      }
    },
    {
      "cell_type": "code",
      "source": [
        "df1 = df.copy()"
      ],
      "metadata": {
        "id": "SVsKrKjQuW3H"
      },
      "execution_count": null,
      "outputs": []
    },
    {
      "cell_type": "code",
      "source": [
        "df.to_csv('gs://soulcode/Original/campanha_marketing_bruto.csv')"
      ],
      "metadata": {
        "id": "cvSNgMuxu00T"
      },
      "execution_count": null,
      "outputs": []
    },
    {
      "cell_type": "markdown",
      "source": [
        "Enviando dados originais para o Mongo"
      ],
      "metadata": {
        "id": "BszxthM9wrec"
      }
    },
    {
      "cell_type": "code",
      "source": [
        "df_dict = df.to_dict('records')\n",
        "collection_backup.insert_many(df_dict)"
      ],
      "metadata": {
        "colab": {
          "base_uri": "https://localhost:8080/"
        },
        "id": "56yO4ZspThfn",
        "outputId": "9084181f-1adf-4621-aa11-b1a743ac2118"
      },
      "execution_count": null,
      "outputs": [
        {
          "output_type": "execute_result",
          "data": {
            "text/plain": [
              "<pymongo.results.InsertManyResult at 0x7f1f36d1a510>"
            ]
          },
          "metadata": {},
          "execution_count": 55
        }
      ]
    },
    {
      "cell_type": "markdown",
      "source": [
        "### TRANSFORMAÇÕES"
      ],
      "metadata": {
        "id": "FyGN3CeW4_Fm"
      }
    },
    {
      "cell_type": "markdown",
      "source": [
        "#### ANÁLISE"
      ],
      "metadata": {
        "id": "PFXTjuHMA_8w"
      }
    },
    {
      "cell_type": "markdown",
      "source": [
        "##### Documentação da tabela\n",
        "\n",
        "> Bloco com recuo\n",
        "\n"
      ],
      "metadata": {
        "id": "6psldQ0wyIGy"
      }
    },
    {
      "cell_type": "markdown",
      "source": [
        "Após pesquisa na internet foram encontradas as seguintes descrições de cada coluna:\n",
        "\n",
        "Pessoas\n",
        "\n",
        "- ID: ID do cliente\n",
        "- Year_Birth: Data de nascimento\n",
        "- Education: Escolaridade\n",
        "- Marital_Status: Estado Civil\n",
        "- Income: Renda Familiar\n",
        "- Kidhome: Quantidade crianças na casa\n",
        "- Teenhome: Quantidade de adolecentes na casa\n",
        "- Dt_Customer: Data de cadastro\n",
        "- Recency: Número de dias desde a última compra\n",
        "- Complain: 1 se o cliente reclamou nos últimos 2 anos, caso contrário 0\n",
        "\n",
        "\n",
        "Produtos\n",
        "- MntWines: Quantidade gasta em vinho nos últimos 2 anos\n",
        "- MntFruits: Quantidade gasta em frutas nos últimos 2 anos\n",
        "- MntMeatProducts: Quantidade gasta em carne nos últimos 2 anos\n",
        "- MntFishProducts: Quantidade gasta em peixe nos últimos 2 anos\n",
        "- MntSweetProducts: Quantidade gasta em doces nos últimos 2 anos\n",
        "- MntGoldProds: Quantidade gasta em ouro nos últimos 2 anos\n",
        "\n",
        "\n",
        "Promoções\n",
        "- NumDealsPurchases: Número de compras feitas com descontos\n",
        "- AcceptedCmp1: 1 se o cliente aceitou a oferta na 1a campanha, 0 caso contrário\n",
        "- AcceptedCmp2: 1 se o cliente aceitou a oferta na 2a campanha, 0 caso contrário\n",
        "- AcceptedCmp3: 1 se o cliente aceitou a oferta na 3a campanha, 0 caso contrário\n",
        "- AcceptedCmp4: 1 se o cliente aceitou a oferta na 4a campanha, 0 caso contrário\n",
        "- AcceptedCmp5: 1 se o cliente aceitou a oferta na 5a campanha, 0 caso contrário\n",
        "- Response: 1 se o cliente aceitou a oferta na última campanha, 0 caso contrário\n",
        "\n",
        "\n",
        "Forma de compra\n",
        "- NumWebPurchases: Número de compras feitas pelo website\n",
        "- NumCatalogPurchases: Número de compras feitas usando um catálogo\n",
        "- NumStorePurchases: Número de compras feitas na loja\n",
        "- NumWebVisitsMonth: Número de visitas feita no website no último mês\n",
        "\n",
        "fonte: https://www.kaggle.com/datasets/imakash3011/customer-personality-analysis"
      ],
      "metadata": {
        "id": "SdGe46I6bvOq"
      }
    },
    {
      "cell_type": "markdown",
      "source": [
        "##### Análise exploratória"
      ],
      "metadata": {
        "id": "WPFFkjQvyNtD"
      }
    },
    {
      "cell_type": "markdown",
      "source": [
        "Determinando quantidade de linhas e colunas"
      ],
      "metadata": {
        "id": "8YD52nfcARDD"
      }
    },
    {
      "cell_type": "code",
      "source": [
        "df1.shape"
      ],
      "metadata": {
        "id": "nPznsojUAH4X"
      },
      "execution_count": null,
      "outputs": []
    },
    {
      "cell_type": "markdown",
      "source": [
        "Observando as primeiras linhas para ter uma compreensão básica do dataframe"
      ],
      "metadata": {
        "id": "__hzkJmEyz-K"
      }
    },
    {
      "cell_type": "code",
      "source": [
        "df1.head().T"
      ],
      "metadata": {
        "id": "jEHVNUWHYlNm"
      },
      "execution_count": null,
      "outputs": []
    },
    {
      "cell_type": "markdown",
      "source": [
        "Procurando por valores Nulos"
      ],
      "metadata": {
        "id": "qb3VypAdzGio"
      }
    },
    {
      "cell_type": "code",
      "source": [
        "df1.isna().sum()"
      ],
      "metadata": {
        "id": "8vzxWUPB2bLZ"
      },
      "execution_count": null,
      "outputs": []
    },
    {
      "cell_type": "markdown",
      "source": [
        "Analisando o tipo de dados de cada coluna"
      ],
      "metadata": {
        "id": "klnyhHiGzKVL"
      }
    },
    {
      "cell_type": "code",
      "source": [
        "df1.dtypes"
      ],
      "metadata": {
        "id": "219zQq_E2Cwy"
      },
      "execution_count": null,
      "outputs": []
    },
    {
      "cell_type": "markdown",
      "source": [
        "Analisando os valores únicos de cada coluna"
      ],
      "metadata": {
        "id": "e7DFLZLs2sIL"
      }
    },
    {
      "cell_type": "code",
      "source": [
        "df1['ID'].is_unique"
      ],
      "metadata": {
        "id": "YFw7xxTT4B__"
      },
      "execution_count": null,
      "outputs": []
    },
    {
      "cell_type": "code",
      "source": [
        "df1.nunique()"
      ],
      "metadata": {
        "colab": {
          "base_uri": "https://localhost:8080/",
          "height": 169
        },
        "id": "nE76OyQH2gOk",
        "outputId": "8aab4b3c-4784-4d6f-e8a0-59971f11b230"
      },
      "execution_count": null,
      "outputs": [
        {
          "output_type": "error",
          "ename": "NameError",
          "evalue": "ignored",
          "traceback": [
            "\u001b[0;31m---------------------------------------------------------------------------\u001b[0m",
            "\u001b[0;31mNameError\u001b[0m                                 Traceback (most recent call last)",
            "\u001b[0;32m<ipython-input-1-b056acc58fdf>\u001b[0m in \u001b[0;36m<module>\u001b[0;34m()\u001b[0m\n\u001b[0;32m----> 1\u001b[0;31m \u001b[0mdf1\u001b[0m\u001b[0;34m.\u001b[0m\u001b[0mnunique\u001b[0m\u001b[0;34m(\u001b[0m\u001b[0;34m)\u001b[0m\u001b[0;34m\u001b[0m\u001b[0;34m\u001b[0m\u001b[0m\n\u001b[0m",
            "\u001b[0;31mNameError\u001b[0m: name 'df1' is not defined"
          ]
        }
      ]
    },
    {
      "cell_type": "code",
      "source": [
        "sorted(pd.unique(df1['Education']))"
      ],
      "metadata": {
        "id": "h9Qia6xT13jw"
      },
      "execution_count": null,
      "outputs": []
    },
    {
      "cell_type": "code",
      "source": [
        "sorted(pd.unique(df1['Marital_Status']))"
      ],
      "metadata": {
        "id": "jZ4atZCK13ap"
      },
      "execution_count": null,
      "outputs": []
    },
    {
      "cell_type": "markdown",
      "source": [
        "Fazendo uma análise estatística básica de cada coluna"
      ],
      "metadata": {
        "id": "5eq_jtB86oB_"
      }
    },
    {
      "cell_type": "code",
      "source": [
        "df1.describe().T"
      ],
      "metadata": {
        "id": "pjT-EVBl3NA6"
      },
      "execution_count": null,
      "outputs": []
    },
    {
      "cell_type": "markdown",
      "source": [
        "Concluões iniciais:\n",
        "\n",
        "- Somente a coluna 'Income' possui valores nulos\n",
        "- Não há duplicatas pois a coluna ID possui somente valores únicos\n",
        "- O tipo de dado da coluna 'Dt_Customer' está em string\n",
        "- As colunas Z_CostContact e Z_Revenue possuem somente 1 valor e podem ser dropadas\n",
        "- A coluna 'Income' possui um valor muito discrepante o '666666' é mais de 10 vezes o valor do desvio padrão"
      ],
      "metadata": {
        "id": "zjwuSDcDzoFI"
      }
    },
    {
      "cell_type": "markdown",
      "source": [
        "#### TRADUÇÃO"
      ],
      "metadata": {
        "id": "UHk-XpcDRYmV"
      }
    },
    {
      "cell_type": "markdown",
      "source": [
        "Traduzindo os dados do inglês para o português"
      ],
      "metadata": {
        "id": "ge5gZQP9O8bK"
      }
    },
    {
      "cell_type": "code",
      "source": [
        "# Tradução do nome das colunas\n",
        "(df1.rename(columns={'Year_Birth':'ano_nascimento',\n",
        "            'Education':'escolaridade',\n",
        "            'Marital_Status':'estado_civil',\n",
        "            'Income':'renda',\n",
        "            'Kidhome':'qtd_crianca',\n",
        "            'Teenhome':'qtd_adolescente',\n",
        "            'Dt_Customer':'data_filiação',\n",
        "            'Recency':'dias_ultima_compra',\n",
        "            'MntWines':'gasto_vinho',\n",
        "            'MntFruits':'gasto_fruta',\n",
        "            'MntMeatProducts':'gasto_carne',\n",
        "            'MntFishProducts':'gasto_peixe',\n",
        "            'MntSweetProducts':'gasto_doce',\n",
        "            'MntGoldProds':'gasto_ouro',\n",
        "            'NumDealsPurchases':'compras_promoção',\n",
        "            'NumWebPurchases':'compras_website',\n",
        "            'NumCatalogPurchases':'compras_catalogo',\n",
        "            'NumStorePurchases':'compras_loja',\n",
        "            'NumWebVisitsMonth':'visitas_website',\n",
        "            'AcceptedCmp1':'campanha_1',\n",
        "            'AcceptedCmp2':'campanha_2',\n",
        "            'AcceptedCmp3':'campanha_3',\n",
        "            'AcceptedCmp4':'campanha_4',\n",
        "            'AcceptedCmp5':'campanha_5',\n",
        "            'Complain':'reclamação',\n",
        "            'Response':'campanha_ultima'},\n",
        "            inplace=True)\n",
        ")"
      ],
      "metadata": {
        "id": "pehsS0bII3ek"
      },
      "execution_count": null,
      "outputs": []
    },
    {
      "cell_type": "code",
      "source": [
        "# Tradução dos valores da coluna 'Education'\n",
        "(df1.replace({'2n Cycle':'Pós-graduação',\n",
        "              'Basic':'Médio',\n",
        "              'Graduation':'Superior',\n",
        "              'Master':'Mestrado',\n",
        "              'PhD':'Doutorado'},\n",
        "             inplace=True)\n",
        ")"
      ],
      "metadata": {
        "id": "7GaHZGPePCQz"
      },
      "execution_count": null,
      "outputs": []
    },
    {
      "cell_type": "code",
      "source": [
        "# Tradução dos valores da coluna 'Marital_status'\n",
        "(df1.replace({'Absurd':'Solteiro',\n",
        "              'Alone':'Solteiro',\n",
        "              'Divorced':'Solteiro',\n",
        "              'Married':'Casado',\n",
        "              'Single':'Solteiro',\n",
        "              'Together':'Casado',\n",
        "              'Widow':'Solteiro',\n",
        "              'YOLO':'Solteiro'},\n",
        "             inplace=True)\n",
        ")"
      ],
      "metadata": {
        "id": "f8-zkGp2QWNn"
      },
      "execution_count": null,
      "outputs": []
    },
    {
      "cell_type": "markdown",
      "source": [
        "#### DROP"
      ],
      "metadata": {
        "id": "XKnubt_DZcnX"
      }
    },
    {
      "cell_type": "markdown",
      "source": [
        "Eliminando as colunas 'Z_CostContact','Z_Revenue' pois elas possuem um único valor"
      ],
      "metadata": {
        "id": "P5P3IRa5Oy1w"
      }
    },
    {
      "cell_type": "code",
      "source": [
        "df1.drop(['Z_CostContact','Z_Revenue'],axis=1,inplace=True)"
      ],
      "metadata": {
        "id": "gxhKoN3pIisT"
      },
      "execution_count": null,
      "outputs": []
    },
    {
      "cell_type": "code",
      "source": [
        ""
      ],
      "metadata": {
        "id": "6hB3esvrPpVw"
      },
      "execution_count": null,
      "outputs": []
    },
    {
      "cell_type": "markdown",
      "source": [
        "Elimando a linha com valor muito discrepante"
      ],
      "metadata": {
        "id": "NFiiCM2ITa5P"
      }
    },
    {
      "cell_type": "code",
      "source": [
        "df1 = df1[df1.renda < 600000]"
      ],
      "metadata": {
        "id": "9bFpvqg3S4dk"
      },
      "execution_count": null,
      "outputs": []
    },
    {
      "cell_type": "markdown",
      "source": [
        "#### NULOS"
      ],
      "metadata": {
        "id": "U4FtgU8HYChm"
      }
    },
    {
      "cell_type": "code",
      "source": [
        "# Preenchendo os valores nulos com a média da renda\n",
        "df1['renda'].fillna(df1['renda'].median(), inplace=True)"
      ],
      "metadata": {
        "id": "jvEmV8XpYB0b"
      },
      "execution_count": null,
      "outputs": []
    },
    {
      "cell_type": "markdown",
      "source": [
        "### LOAD - CARGA"
      ],
      "metadata": {
        "id": "QPbiTUdUCKqS"
      }
    },
    {
      "cell_type": "code",
      "source": [
        "df1.to_csv('gs://soulcode/Tratado/campanha_marketing_tratado.csv')"
      ],
      "metadata": {
        "id": "etaaFoS9CN0p"
      },
      "execution_count": null,
      "outputs": []
    },
    {
      "cell_type": "code",
      "source": [
        "df1_dict = df1.to_dict('records')\n",
        "\n",
        "# db.create_collection('campanha_marketing_pandas')\n",
        "collection_tratado_pandas = db['campanha_marketing_pandas']\n",
        "\n",
        "# Inserindo os dados no mongodb\n",
        "collection_tratado_pandas.insert_many(df1_dict)"
      ],
      "metadata": {
        "id": "n9wlJwiMbQI2"
      },
      "execution_count": null,
      "outputs": []
    },
    {
      "cell_type": "markdown",
      "source": [
        "## ETL - PYSPARK"
      ],
      "metadata": {
        "id": "eGvh8jP_ZWOQ"
      }
    },
    {
      "cell_type": "markdown",
      "source": [
        "### EXTRAÇÃO - LEITURA DE DADOS"
      ],
      "metadata": {
        "id": "Vt2aQmhKC2u7"
      }
    },
    {
      "cell_type": "code",
      "source": [
        "esquema = (\n",
        "    StructType([\n",
        "        StructField('ID', IntegerType(), False),\n",
        "        StructField('ano_nascimento', IntegerType(), True),\n",
        "        StructField('escolaridade', StringType(), True),\n",
        "        StructField('estado_civil', StringType(), True),\n",
        "        StructField('renda', FloatType(), True),\n",
        "        StructField('qtd_crianca', IntegerType(), True),\n",
        "        StructField('qtd_adolescente', IntegerType(), True),\n",
        "        StructField('data_filiação', StringType(), True),\n",
        "        StructField('dias_ultima_compra', IntegerType(), True),\n",
        "        StructField('gasto_vinho', IntegerType(), True),\n",
        "        StructField('gasto_fruta', IntegerType(), True),\n",
        "        StructField('gasto_carne', IntegerType(), True),\n",
        "        StructField('gasto_peixe', IntegerType(), True),\n",
        "        StructField('gasto_doce', IntegerType(), True),\n",
        "        StructField('gasto_ouro', IntegerType(), True),\n",
        "        StructField('compras_promoção', IntegerType(), True),\n",
        "        StructField('compras_website', IntegerType(), True),\n",
        "        StructField('compras_catalogo', IntegerType(), True),\n",
        "        StructField('compras_loja', IntegerType(), True),\n",
        "        StructField('visitas_website', IntegerType(), True),\n",
        "        StructField('campanha_3', IntegerType(), True),\n",
        "        StructField('campanha_4', IntegerType(), True),\n",
        "        StructField('campanha_5', IntegerType(), True),\n",
        "        StructField('campanha_1', IntegerType(), True),\n",
        "        StructField('campanha_2', IntegerType(), True),\n",
        "        StructField('reclamação', IntegerType(), True),\n",
        "        StructField('Z_CostContact', IntegerType(), True),\n",
        "        StructField('Z_Revenue', IntegerType(), True),\n",
        "        StructField('campanha_ultima', IntegerType(), True),\n",
        "    ])\n",
        ")"
      ],
      "metadata": {
        "id": "s7NcEMtHobYB"
      },
      "execution_count": null,
      "outputs": []
    },
    {
      "cell_type": "code",
      "source": [
        "df_spark = (spark.read.format('csv')\n",
        "              .option('header','true')\n",
        "              .option('delimiter',';')\n",
        "              .option('inferschema','false')\n",
        "              .load('gs://soulcode/marketing_campaign.csv', schema = esquema)\n",
        ")"
      ],
      "metadata": {
        "id": "2cYeTXVRRPSU"
      },
      "execution_count": null,
      "outputs": []
    },
    {
      "cell_type": "code",
      "source": [
        "# Backup\n",
        "df2 = df_spark"
      ],
      "metadata": {
        "id": "R7_6A1qoVBs0"
      },
      "execution_count": null,
      "outputs": []
    },
    {
      "cell_type": "markdown",
      "source": [
        "### ANÁLISE"
      ],
      "metadata": {
        "id": "B4RpOgkWTjQK"
      }
    },
    {
      "cell_type": "code",
      "source": [
        "df_spark.printSchema()"
      ],
      "metadata": {
        "id": "3ZNB_PCGU-vT"
      },
      "execution_count": null,
      "outputs": []
    },
    {
      "cell_type": "code",
      "source": [
        "df2.summary().show()"
      ],
      "metadata": {
        "id": "YLltta_rTGUv"
      },
      "execution_count": null,
      "outputs": []
    },
    {
      "cell_type": "code",
      "source": [
        "df2.select([F.count(F.when(F.col(c).contains('None') | \\\n",
        "                            F.col(c).contains('NULL') | \\\n",
        "                            F.col(c).contains('nao_sei') | \\\n",
        "                            (F.col(c) == '' ) | \\\n",
        "                            F.col(c).isNull() | \\\n",
        "                            F.isnan(c), c \n",
        "                           )).alias(c)\n",
        "                    for c in df2.columns]).show()"
      ],
      "metadata": {
        "id": "Ywy-FL1zTffA"
      },
      "execution_count": null,
      "outputs": []
    },
    {
      "cell_type": "code",
      "source": [
        "df2.dropDuplicates().count()"
      ],
      "metadata": {
        "id": "5FXWRwnDUTYi"
      },
      "execution_count": null,
      "outputs": []
    },
    {
      "cell_type": "markdown",
      "source": [
        "### TRANSFORMAÇÃO"
      ],
      "metadata": {
        "id": "lcflCidFDF6j"
      }
    },
    {
      "cell_type": "markdown",
      "source": [
        "#### TRADUÇÃO"
      ],
      "metadata": {
        "id": "vCQrAU7FDTCN"
      }
    },
    {
      "cell_type": "code",
      "source": [
        "# tradução\n",
        "df2 = ( df2.withColumn('estado_civil', F.regexp_replace(F.col('estado_civil'), 'Absurd', 'Solteiro'))\n",
        "     .withColumn('estado_civil', F.regexp_replace(F.col('estado_civil'), 'Alone', 'Solteiro'))\n",
        "     .withColumn('estado_civil', F.regexp_replace(F.col('estado_civil'), 'Divorced', 'Solteiro'))\n",
        "     .withColumn('estado_civil', F.regexp_replace(F.col('estado_civil'), 'Married', 'Casado'))\n",
        "     .withColumn('estado_civil', F.regexp_replace(F.col('estado_civil'), 'Single', 'Solteiro'))\n",
        "     .withColumn('estado_civil', F.regexp_replace(F.col('estado_civil'), 'Together', 'Casado'))\n",
        "     .withColumn('estado_civil', F.regexp_replace(F.col('estado_civil'), 'Widow', 'Solteiro'))\n",
        "     .withColumn('estado_civil', F.regexp_replace(F.col('estado_civil'), 'YOLO', 'Solteiro'))\n",
        "     .withColumn('escolaridade', F.regexp_replace(F.col('escolaridade'), '2n Cycle', 'Pós-graduação'))\n",
        "     .withColumn('escolaridade', F.regexp_replace(F.col('escolaridade'), 'Basic', 'Médio'))\n",
        "     .withColumn('escolaridade', F.regexp_replace(F.col('escolaridade'), 'Graduation', 'Superior'))\n",
        "     .withColumn('escolaridade', F.regexp_replace(F.col('escolaridade'), 'Master', 'Mestrado'))\n",
        "     .withColumn('escolaridade', F.regexp_replace(F.col('escolaridade'), 'PhD', 'Doutorado'))\n",
        ")"
      ],
      "metadata": {
        "id": "kmU0tgBIzHeh"
      },
      "execution_count": null,
      "outputs": []
    },
    {
      "cell_type": "markdown",
      "source": [
        "#### DROP"
      ],
      "metadata": {
        "id": "utDsWoIdDWHe"
      }
    },
    {
      "cell_type": "code",
      "source": [
        "# Eliminando colunas com valor único\n",
        "df2 = df2.drop(F.col('Z_CostContact')).drop(F.col('Z_Revenue'))"
      ],
      "metadata": {
        "id": "1dtS-LA5xKxx"
      },
      "execution_count": null,
      "outputs": []
    },
    {
      "cell_type": "markdown",
      "source": [
        "##### VALORES NULOS"
      ],
      "metadata": {
        "id": "3RwHg3xHDhq6"
      }
    },
    {
      "cell_type": "code",
      "source": [
        "# nulos \n",
        "mean_list = df2.agg({'renda': 'mean'}).collect() # Cálculo da média\n",
        "mean = mean_list[0].asDict() # Extraindo a média da lista e transformando em dicionário\n",
        "df2 = df2.fillna(mean['avg(renda)']) # Preenchendo valores nulos com a média"
      ],
      "metadata": {
        "id": "9x6gksvG3oeK"
      },
      "execution_count": null,
      "outputs": []
    },
    {
      "cell_type": "markdown",
      "source": [
        "##### ADIÇÃO DE COLUNAS"
      ],
      "metadata": {
        "id": "Wv56o9oNDsY3"
      }
    },
    {
      "cell_type": "code",
      "source": [
        "# Criando colunas\n",
        "df2 = (df2.withColumn('idade', 2022 - F.col('ano_nascimento'))\n",
        "          .withColumn('gasto_total', \n",
        "                F.col('gasto_vinho') + \n",
        "                F.col('gasto_fruta') + \n",
        "                F.col('gasto_carne') + \n",
        "                F.col('gasto_peixe') + \n",
        "                F.col('gasto_doce') + \n",
        "                F.col('gasto_ouro')\n",
        "                      )\n",
        "          .withColumn('campanhas', \n",
        "                F.col('campanha_1') +\n",
        "                F.col('campanha_2') + \n",
        "                F.col('campanha_3') + \n",
        "                F.col('campanha_4') + \n",
        "                F.col('campanha_5') + \n",
        "                F.col('campanha_ultima')\n",
        "                      )\n",
        "          .withColumn('filhos', F.col('qtd_crianca') + F.col('qtd_adolescente'))\n",
        "          .withColumn('numero_compras', \n",
        "                F.col('compras_promoção') +\n",
        "                F.col('compras_website') +\n",
        "                F.col('compras_catalogo') +\n",
        "                F.col('compras_loja')\n",
        "                      )\n",
        "       \n",
        "       )"
      ],
      "metadata": {
        "id": "2nPWok9DDa8c"
      },
      "execution_count": null,
      "outputs": []
    },
    {
      "cell_type": "code",
      "source": [
        "df2.show(2)"
      ],
      "metadata": {
        "colab": {
          "base_uri": "https://localhost:8080/"
        },
        "id": "Uxf-NRXwu1AF",
        "outputId": "1455e135-204e-4ae1-92cc-530fabaafe50"
      },
      "execution_count": null,
      "outputs": [
        {
          "output_type": "stream",
          "name": "stdout",
          "text": [
            "+----+--------------+------------+------------+-------+-----------+---------------+-------------+------------------+-----------+-----------+-----------+-----------+----------+----------+----------------+---------------+----------------+------------+---------------+----------+----------+----------+----------+----------+----------+---------------+-----+-----------+---------+------+--------------+\n",
            "|  ID|ano_nascimento|escolaridade|estado_civil|  renda|qtd_crianca|qtd_adolescente|data_filiação|dias_ultima_compra|gasto_vinho|gasto_fruta|gasto_carne|gasto_peixe|gasto_doce|gasto_ouro|compras_promoção|compras_website|compras_catalogo|compras_loja|visitas_website|campanha_3|campanha_4|campanha_5|campanha_1|campanha_2|reclamação|campanha_ultima|idade|gasto_total|campanhas|filhos|numero_compras|\n",
            "+----+--------------+------------+------------+-------+-----------+---------------+-------------+------------------+-----------+-----------+-----------+-----------+----------+----------+----------------+---------------+----------------+------------+---------------+----------+----------+----------+----------+----------+----------+---------------+-----+-----------+---------+------+--------------+\n",
            "|5524|          1957|    Superior|    Solteiro|58138.0|          0|              0|   2012-09-04|                58|        635|         88|        546|        172|        88|        88|               3|              8|              10|           4|              7|         0|         0|         0|         0|         0|         0|              1|   65|       1617|        1|     0|            25|\n",
            "|2174|          1954|    Superior|    Solteiro|46344.0|          1|              1|   2014-03-08|                38|         11|          1|          6|          2|         1|         6|               2|              1|               1|           2|              5|         0|         0|         0|         0|         0|         0|              0|   68|         27|        0|     2|             6|\n",
            "+----+--------------+------------+------------+-------+-----------+---------------+-------------+------------------+-----------+-----------+-----------+-----------+----------+----------+----------------+---------------+----------------+------------+---------------+----------+----------+----------+----------+----------+----------+---------------+-----+-----------+---------+------+--------------+\n",
            "only showing top 2 rows\n",
            "\n"
          ]
        }
      ]
    },
    {
      "cell_type": "code",
      "source": [
        "# O cálculo de idade torna o ano de nascimento redundante\n",
        "df2 = df2.drop(F.col('ano_nascimento'))"
      ],
      "metadata": {
        "id": "9rRxJqE1LF8D"
      },
      "execution_count": null,
      "outputs": []
    },
    {
      "cell_type": "markdown",
      "source": [
        "### LOAD - CARGA DE DADOS"
      ],
      "metadata": {
        "id": "4C-40FXVpxSu"
      }
    },
    {
      "cell_type": "code",
      "source": [
        "db.create_collection('campanha_marketing_spark')"
      ],
      "metadata": {
        "id": "XyXqwmAzjqEx"
      },
      "execution_count": null,
      "outputs": []
    },
    {
      "cell_type": "code",
      "source": [
        "df2_pd = df2.toPandas()\n",
        "df2_dict = df2_pd.to_dict('records')\n",
        "\n",
        "collection_tratado_spark = db['campanha_marketing_spark']\n",
        "\n",
        "# Inserindo os dados no mongodb\n",
        "collection_tratado_spark.insert_many(df2_dict)"
      ],
      "metadata": {
        "colab": {
          "base_uri": "https://localhost:8080/"
        },
        "id": "GRT7T-1bsRRz",
        "outputId": "14529d1a-2392-47fc-b499-b35eed1a5fcb"
      },
      "execution_count": null,
      "outputs": [
        {
          "output_type": "execute_result",
          "data": {
            "text/plain": [
              "<pymongo.results.InsertManyResult at 0x7f801e866550>"
            ]
          },
          "metadata": {},
          "execution_count": 90
        }
      ]
    },
    {
      "cell_type": "code",
      "source": [
        "df2.write.csv('gs://soulcode/Tratado', sep=',', mode='append', header=True)"
      ],
      "metadata": {
        "id": "lRisCO7KpoU3"
      },
      "execution_count": null,
      "outputs": []
    },
    {
      "cell_type": "markdown",
      "source": [
        "### INSIGHTS"
      ],
      "metadata": {
        "id": "1P710HW0h9Q2"
      }
    },
    {
      "cell_type": "markdown",
      "source": [
        "##### FILTROS"
      ],
      "metadata": {
        "id": "C9agclF6DxjP"
      }
    },
    {
      "cell_type": "code",
      "source": [
        "# escolaridade\n",
        "df2.groupBy('escolaridade').count().orderBy('count').show()"
      ],
      "metadata": {
        "id": "gMDte8i2QVg5"
      },
      "execution_count": null,
      "outputs": []
    },
    {
      "cell_type": "code",
      "source": [
        "# escolaridade x renda\n",
        "df2.groupBy('escolaridade').mean('renda').orderBy('avg(renda)').show()"
      ],
      "metadata": {
        "id": "zFxLiUP9N4ah"
      },
      "execution_count": null,
      "outputs": []
    },
    {
      "cell_type": "code",
      "source": [
        "# escolaridade x gasto\n",
        "df2.groupBy('escolaridade').mean('gasto_total').orderBy('avg(gasto_total)').show()"
      ],
      "metadata": {
        "id": "w2EEFdPcN9XN"
      },
      "execution_count": null,
      "outputs": []
    },
    {
      "cell_type": "code",
      "source": [
        "# estado civil\n",
        "df2.groupBy('estado_civil').count().orderBy('count').show()"
      ],
      "metadata": {
        "id": "tlE_Z3gpRA5F"
      },
      "execution_count": null,
      "outputs": []
    },
    {
      "cell_type": "code",
      "source": [
        "# estado civil x renda\n",
        "df2.groupBy('estado_civil').mean('renda').orderBy('avg(renda)').show()"
      ],
      "metadata": {
        "id": "fOn50sOfRK91"
      },
      "execution_count": null,
      "outputs": []
    },
    {
      "cell_type": "code",
      "source": [
        "# estado_civil x gasto\n",
        "df2.groupBy('estado_civil').mean('gasto_total').orderBy('avg(gasto_total)').show()"
      ],
      "metadata": {
        "id": "Rp-fvSRWOMAV"
      },
      "execution_count": null,
      "outputs": []
    },
    {
      "cell_type": "code",
      "source": [
        "# filhos\n",
        "df2.groupBy('filhos').count().orderBy('count').show()"
      ],
      "metadata": {
        "id": "N8TGC2h0OQL1"
      },
      "execution_count": null,
      "outputs": []
    },
    {
      "cell_type": "code",
      "source": [
        "# filhos x gasto\n",
        "df2.groupBy('filhos').mean('gasto_total').orderBy('avg(gasto_total)', ascending=False).show()"
      ],
      "metadata": {
        "id": "19jjmeInRnjy"
      },
      "execution_count": null,
      "outputs": []
    },
    {
      "cell_type": "code",
      "source": [
        "# filhos x renda\n",
        "df2.groupBy('filhos').mean('renda').orderBy('avg(renda)', ascending=False).show()"
      ],
      "metadata": {
        "id": "YIXahRk2OVZm"
      },
      "execution_count": null,
      "outputs": []
    },
    {
      "cell_type": "code",
      "source": [
        "df2.groupBy('campanhas').mean('renda').orderBy('avg(renda)', ascending=False).show()"
      ],
      "metadata": {
        "id": "L9EXMQLlSo4_"
      },
      "execution_count": null,
      "outputs": []
    },
    {
      "cell_type": "code",
      "source": [
        "df2.groupBy('campanhas').mean('gasto_total').orderBy('avg(gasto_total)', ascending=False).show()"
      ],
      "metadata": {
        "id": "YBqRPzgkTELY"
      },
      "execution_count": null,
      "outputs": []
    },
    {
      "cell_type": "markdown",
      "source": [
        "##### SQL"
      ],
      "metadata": {
        "id": "reOfgXdwEF2j"
      }
    },
    {
      "cell_type": "code",
      "source": [
        "# idade\n",
        "df2.select('idade').summary().show()"
      ],
      "metadata": {
        "id": "nUgy7S_LVFPf"
      },
      "execution_count": null,
      "outputs": []
    },
    {
      "cell_type": "code",
      "source": [
        "df_idade_q1 = (df2.select(F.col('renda'), \n",
        "                          F.col('estado_civil'), \n",
        "                          F.col('escolaridade'),\n",
        "                          F.col('gasto_total'),\n",
        "                          F.col('idade')\n",
        "                          )\n",
        "                  .filter(F.col('idade') < 45)\n",
        "              )"
      ],
      "metadata": {
        "id": "WEHg6kc9ObBm"
      },
      "execution_count": null,
      "outputs": []
    },
    {
      "cell_type": "code",
      "source": [
        "df_idade_q2 = (df2.select(F.col('renda'), \n",
        "                          F.col('estado_civil'), \n",
        "                          F.col('escolaridade'), \n",
        "                          F.col('gasto_total'),\n",
        "                          F.col('idade')\n",
        "                          )\n",
        "                  .filter(F.col('idade') < 52)\n",
        "                  .filter(F.col('idade') > 45)\n",
        "              )"
      ],
      "metadata": {
        "id": "ue2wiiAcWD5j"
      },
      "execution_count": null,
      "outputs": []
    },
    {
      "cell_type": "code",
      "source": [
        "df_idade_q3 = (df2.select(F.col('renda'), \n",
        "                          F.col('estado_civil'), \n",
        "                          F.col('escolaridade'), \n",
        "                          F.col('gasto_total'),\n",
        "                          F.col('idade')\n",
        "                          )\n",
        "                  .filter(F.col('idade') < 63)\n",
        "                  .filter(F.col('idade') > 52)\n",
        "              )"
      ],
      "metadata": {
        "id": "d5KaABGFYz8f"
      },
      "execution_count": null,
      "outputs": []
    },
    {
      "cell_type": "code",
      "source": [
        "df_idade_q4 = (df2.select(F.col('renda'), \n",
        "                          F.col('estado_civil'), \n",
        "                          F.col('escolaridade'), \n",
        "                          F.col('gasto_total'),\n",
        "                          F.col('idade')\n",
        "                          )\n",
        "                  .filter(F.col('idade') > 63)\n",
        "              )"
      ],
      "metadata": {
        "id": "L1qaDC5VY6I-"
      },
      "execution_count": null,
      "outputs": []
    },
    {
      "cell_type": "code",
      "source": [
        "df2.select(F.col('gasto_total')).filter(F.col('estado_civil')=='casado').show()"
      ],
      "metadata": {
        "id": "aOMlqn7f7Hmf"
      },
      "execution_count": null,
      "outputs": []
    },
    {
      "cell_type": "code",
      "source": [
        "df2.select(F.col('gasto_total')).filter(F.col('estado_civil')=='solteiro').show()"
      ],
      "metadata": {
        "id": "_TSTBPKH9jpc"
      },
      "execution_count": null,
      "outputs": []
    },
    {
      "cell_type": "markdown",
      "source": [
        "##### WINDOW FUNCTION"
      ],
      "metadata": {
        "id": "OA4s17JeEI_c"
      }
    },
    {
      "cell_type": "code",
      "source": [
        "# escolaridade window\n",
        "w0 = Window.partitionBy(F.col('escolaridade')).orderBy('renda')\n",
        "df2.withColumn('rank', F.rank().over(w0)).show()"
      ],
      "metadata": {
        "id": "IO6oiW_V0azT"
      },
      "execution_count": null,
      "outputs": []
    },
    {
      "cell_type": "code",
      "source": [
        "w1 = Window.partitionBy(F.col('estado_civil')).orderBy('gasto_total')\n",
        "df2.withColumn('dense', F.dense().over(w1)).show()"
      ],
      "metadata": {
        "id": "yilw7Z-w05cj"
      },
      "execution_count": null,
      "outputs": []
    }
  ]
}