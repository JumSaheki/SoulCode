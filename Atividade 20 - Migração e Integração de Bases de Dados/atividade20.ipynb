{
  "nbformat": 4,
  "nbformat_minor": 0,
  "metadata": {
    "colab": {
      "name": "jumsaheki_atv20.ipynb",
      "provenance": [],
      "collapsed_sections": []
    },
    "kernelspec": {
      "name": "python3",
      "display_name": "Python 3"
    },
    "language_info": {
      "name": "python"
    }
  },
  "cells": [
    {
      "cell_type": "markdown",
      "source": [
        "#Atividade 20 - Migração e Integração de Bases de Dados\n",
        "\n",
        "A SoulCode Academy utiliza dois sistemas distintos para cadastro de vendas, um em sua matriz e outro em suas filiais. O sistema da matriz utiliza um db noSQL enquanto os das filiais ainda utilizam um SQL. As tabelas a seguir são amostras de dados dos dois tipos de db enviadas para auxiliar seu desenvolvimento. Crie uma db em SQL e uma noSQL, e adicione essas amostrar para criar um ambiente simulando o problema real. A seguir crie um código em Python que leia a db SQL, corrija, padronize e insira os dados na db noSQL.\n",
        "\n",
        "\n",
        "Devem ser entregues:\n",
        "- os códigos desenvolvidos\n",
        "- um cronograma apresentando quem fez o que e quando\n",
        "- uma apresentação em slides apresentando o desenvolvimento criado"
      ],
      "metadata": {
        "id": "P2ZEHdPZz9DM"
      }
    },
    {
      "cell_type": "markdown",
      "source": [
        "##INSTALLS E BIBLIOTECAS"
      ],
      "metadata": {
        "id": "kjDcqDVQ_eqm"
      }
    },
    {
      "cell_type": "code",
      "source": [
        "# Conexão com o google drive, onde os conectores do postgres e mongo se encontram\n",
        "from google.colab import drive\n",
        "drive.mount('/content/drive')"
      ],
      "metadata": {
        "id": "uqr6WtxSZKNg"
      },
      "execution_count": null,
      "outputs": []
    },
    {
      "cell_type": "code",
      "source": [
        "# Pandas é uma biblioteca de manipulação de dados\n",
        "# Panderas será utilizado para verificação de dados\n",
        "import pandas as pd\n",
        "from pandas.io.json import json_normalize"
      ],
      "metadata": {
        "id": "svSjkDQW-GwN"
      },
      "execution_count": null,
      "outputs": []
    },
    {
      "cell_type": "code",
      "source": [
        "!pip install pymongo[srv]"
      ],
      "metadata": {
        "colab": {
          "base_uri": "https://localhost:8080/"
        },
        "id": "IntUpNF5GVy3",
        "outputId": "7f996b8e-e0f0-4ce1-b6b1-2a1b8f095d7f"
      },
      "execution_count": null,
      "outputs": [
        {
          "output_type": "stream",
          "name": "stdout",
          "text": [
            "Requirement already satisfied: pymongo[srv] in /usr/local/lib/python3.7/dist-packages (4.1.1)\n",
            "Requirement already satisfied: dnspython<3.0.0,>=1.16.0 in /usr/local/lib/python3.7/dist-packages (from pymongo[srv]) (2.2.1)\n"
          ]
        }
      ]
    },
    {
      "cell_type": "code",
      "source": [
        "# pymongo é uma biblioteca que será utilizado para configurar a conexão com um banco de dados noSQL\n",
        "from pymongo import MongoClient\n",
        "# Função que retorna as configuração do banco de dados Mongo utilizados neste exercício\n",
        "!cp /content/drive/MyDrive/SoulCode/modulos/mongo.py .\n",
        "from mongo import get_mongo_access"
      ],
      "metadata": {
        "id": "JnCbauJBAyzu"
      },
      "execution_count": null,
      "outputs": []
    },
    {
      "cell_type": "code",
      "source": [
        "# Acesso à Classe que utiliza a biblioteca psycopg2 para acessar bancos de dados postgres\n",
        "# Também contem função que retorna as configurações do banco de dados postgres utilizados neste exercício\n",
        "!cp /content/drive/MyDrive/SoulCode/modulos/postgres.py .\n",
        "from postgres import Conector_postgres, get_postgres_access"
      ],
      "metadata": {
        "id": "3x9Zm_W5YPgO",
        "colab": {
          "base_uri": "https://localhost:8080/"
        },
        "outputId": "7f1f94f8-3742-4754-cd1e-b48742e3b973"
      },
      "execution_count": null,
      "outputs": [
        {
          "output_type": "stream",
          "name": "stderr",
          "text": [
            "/usr/local/lib/python3.7/dist-packages/psycopg2/__init__.py:144: UserWarning: The psycopg2 wheel package will be renamed from release 2.8; in order to keep installing from binary please use \"pip install psycopg2-binary\" instead. For details see: <http://initd.org/psycopg/docs/install.html#binary-install-from-pypi>.\n",
            "  \"\"\")\n"
          ]
        }
      ]
    },
    {
      "cell_type": "markdown",
      "source": [
        "##CONEXÕES"
      ],
      "metadata": {
        "id": "G88qu_x7_jld"
      }
    },
    {
      "cell_type": "markdown",
      "source": [
        "### Conexão com postgres"
      ],
      "metadata": {
        "id": "_qIToTzFpb08"
      }
    },
    {
      "cell_type": "code",
      "source": [
        "# Configuração de conexão\n",
        "pg_host, pg_db, pg_user, pg_pwd = get_postgres_access()\n",
        "banco_pg = Conector_postgres(pg_host,pg_db, pg_user,pg_pwd)\n",
        "colunas = ['nota_fiscal','vendedor','total']"
      ],
      "metadata": {
        "id": "n5NTfijs-R2Z"
      },
      "execution_count": null,
      "outputs": []
    },
    {
      "cell_type": "code",
      "source": [
        "# Download\n",
        "dados = banco_pg.selecionar('select * from sistema_a')\n",
        "df_pg = pd.DataFrame(dados, columns = colunas)"
      ],
      "metadata": {
        "id": "WskbTtTj-pjw"
      },
      "execution_count": null,
      "outputs": []
    },
    {
      "cell_type": "code",
      "source": [
        "df_pg"
      ],
      "metadata": {
        "id": "cRgE99kNBnSR"
      },
      "execution_count": null,
      "outputs": []
    },
    {
      "cell_type": "markdown",
      "source": [
        "### Conexão com mongo"
      ],
      "metadata": {
        "id": "hQZ648NMphBP"
      }
    },
    {
      "cell_type": "code",
      "source": [
        "# Obtendo o IP do notebook para liberar conexão no banco de dados Mongo\n",
        "!curl ipecho.net/plain"
      ],
      "metadata": {
        "colab": {
          "base_uri": "https://localhost:8080/"
        },
        "id": "mmiMZVSK-Xyh",
        "outputId": "2718740f-dd42-4ef3-9d44-32d2e81e369d"
      },
      "execution_count": null,
      "outputs": [
        {
          "output_type": "stream",
          "name": "stdout",
          "text": [
            "34.80.249.145"
          ]
        }
      ]
    },
    {
      "cell_type": "code",
      "source": [
        "# Obtendo a string de conexão, nome do banco de dados e nome da collection\n",
        "conn, db_name, collection_name = get_mongo_access()\n",
        "\n",
        "# Estabelecendo a conexão com o Mongo Atlas\n",
        "client = MongoClient(conn)\n",
        "\n",
        "# Definindo o banco de dados que será utilizado\n",
        "db = client[db_name]\n",
        "\n",
        "# Definindo a coleção que será utilizada\n",
        "collection = db[collection_name]"
      ],
      "metadata": {
        "id": "kDDzL7Rex3ju"
      },
      "execution_count": null,
      "outputs": []
    },
    {
      "cell_type": "code",
      "source": [
        "# Obtendo os dados o banco\n",
        "df_m = pd.DataFrame(list(collection.find()))"
      ],
      "metadata": {
        "id": "9liYqqWTD45a"
      },
      "execution_count": null,
      "outputs": []
    },
    {
      "cell_type": "code",
      "source": [
        "df_m"
      ],
      "metadata": {
        "id": "Cm_L2zxaI5ev"
      },
      "execution_count": null,
      "outputs": []
    },
    {
      "cell_type": "markdown",
      "source": [
        "## TRATAMENTO DE DADOS"
      ],
      "metadata": {
        "id": "jYUhfXKz1X2F"
      }
    },
    {
      "cell_type": "code",
      "source": [
        "# Criando backup\n",
        "df_pg2 = df_pg.copy()\n",
        "df_m2 = df_m.copy()"
      ],
      "metadata": {
        "id": "JrNdTVq0M0uB"
      },
      "execution_count": null,
      "outputs": []
    },
    {
      "cell_type": "markdown",
      "source": [
        "### Tratando postgres"
      ],
      "metadata": {
        "id": "6r94oSAGkVhy"
      }
    },
    {
      "cell_type": "code",
      "source": [
        "# Observação superficial do conteúdo\n",
        "df_pg2"
      ],
      "metadata": {
        "id": "-Xr-iYG_r0u7"
      },
      "execution_count": null,
      "outputs": []
    },
    {
      "cell_type": "code",
      "source": [
        "# Analisando os tipos de dados de cada coluna\n",
        "df_pg2.dtypes"
      ],
      "metadata": {
        "id": "qjqUBfW0kEO-"
      },
      "execution_count": null,
      "outputs": []
    },
    {
      "cell_type": "code",
      "source": [
        "# Procurando por valores nulos\n",
        "df_pg2.isnull().sum()"
      ],
      "metadata": {
        "id": "VapHOlhD1XQr"
      },
      "execution_count": null,
      "outputs": []
    },
    {
      "cell_type": "code",
      "source": [
        "# Substituindo os valores nulos\n",
        "df_pg2.fillna('não informado', inplace=True)"
      ],
      "metadata": {
        "id": "bfEflQbdMqIz"
      },
      "execution_count": null,
      "outputs": []
    },
    {
      "cell_type": "code",
      "source": [
        "# Analisando a coluna nota_fiscal\n",
        "df_pg2['nota_fiscal'].is_unique"
      ],
      "metadata": {
        "id": "D7f0PNBDNG5N"
      },
      "execution_count": null,
      "outputs": []
    },
    {
      "cell_type": "code",
      "source": [
        "# Convertendo os valores da coluna 'total' para o tipo float\n",
        "df_pg2['total'] = pd.to_numeric(df_pg2['total'])"
      ],
      "metadata": {
        "id": "Zmk7cXilbJ8j"
      },
      "execution_count": null,
      "outputs": []
    },
    {
      "cell_type": "code",
      "source": [
        "# Procurando por caracteres estranhos\n",
        "sorted(pd.unique(df_pg2['total']))"
      ],
      "metadata": {
        "id": "JGco4EXgQtOJ"
      },
      "execution_count": null,
      "outputs": []
    },
    {
      "cell_type": "code",
      "source": [
        "sorted(pd.unique(df_pg2['vendedores']))"
      ],
      "metadata": {
        "id": "e7jRUAz1QyMJ"
      },
      "execution_count": null,
      "outputs": []
    },
    {
      "cell_type": "markdown",
      "source": [
        "### Tratando mongo"
      ],
      "metadata": {
        "id": "oU9eKGQgkb3G"
      }
    },
    {
      "cell_type": "code",
      "source": [
        "# Análise superficial\n",
        "df_m2.head()"
      ],
      "metadata": {
        "id": "bOOGWufuB1qn"
      },
      "execution_count": null,
      "outputs": []
    },
    {
      "cell_type": "code",
      "source": [
        "# Procurando por valores nulos\n",
        "df_m2.isnull().sum()"
      ],
      "metadata": {
        "id": "A6xX939WkewJ"
      },
      "execution_count": null,
      "outputs": []
    },
    {
      "cell_type": "code",
      "source": [
        "# Analisando os tipos de dados de cada coluna\n",
        "df_m2.dtypes"
      ],
      "metadata": {
        "id": "6ub2MsiHrrjE"
      },
      "execution_count": null,
      "outputs": []
    },
    {
      "cell_type": "code",
      "source": [
        "# Substituindo os valores nulos\n",
        "df_m2.fillna('não informado', inplace=True)"
      ],
      "metadata": {
        "id": "GoLSm3-ubxK1"
      },
      "execution_count": null,
      "outputs": []
    },
    {
      "cell_type": "code",
      "source": [
        "# Analisando a coluna nota_fiscal\n",
        "df_m2['nota_fiscal'].is_unique"
      ],
      "metadata": {
        "id": "rcbSZTTLcH4j"
      },
      "execution_count": null,
      "outputs": []
    },
    {
      "cell_type": "code",
      "source": [
        "# Procurando por caracteres estranhos\n",
        "sorted(pd.unique(df_m2['total']))"
      ],
      "metadata": {
        "id": "x6-TWAY4RB6O"
      },
      "execution_count": null,
      "outputs": []
    },
    {
      "cell_type": "code",
      "source": [
        "sorted(pd.unique(df_m2['vendedores']))"
      ],
      "metadata": {
        "id": "kHxDOkG1RCjW"
      },
      "execution_count": null,
      "outputs": []
    },
    {
      "cell_type": "markdown",
      "source": [
        "### Concatenando os Dataframes"
      ],
      "metadata": {
        "id": "ujQWclnccgDf"
      }
    },
    {
      "cell_type": "code",
      "source": [
        "df = pd.concat([df_pg2,df_m2], ignore_index=True)"
      ],
      "metadata": {
        "id": "fMpQwQPvclD3"
      },
      "execution_count": null,
      "outputs": []
    },
    {
      "cell_type": "markdown",
      "source": [
        "## UPLOAD PARA O MONGO"
      ],
      "metadata": {
        "id": "fHd1uTZeiMM6"
      }
    },
    {
      "cell_type": "code",
      "source": [
        "df_dict = df.to_dict('records')\n",
        "\n",
        "# Criando a collection que receberá os dados consolidados\n",
        "db.create_collection('venda')\n",
        "collection_in = db['venda']\n",
        "\n",
        "# Inserindo os dados no mongodb\n",
        "collection_in.insert_many(df_dict)\n"
      ],
      "metadata": {
        "colab": {
          "base_uri": "https://localhost:8080/"
        },
        "id": "peEF_65IiLBB",
        "outputId": "d5acc491-c2a4-4115-e70a-e456d9a5f478"
      },
      "execution_count": null,
      "outputs": [
        {
          "output_type": "execute_result",
          "data": {
            "text/plain": [
              "<pymongo.results.InsertManyResult at 0x7fbaf2e242d0>"
            ]
          },
          "metadata": {},
          "execution_count": 30
        }
      ]
    },
    {
      "cell_type": "markdown",
      "source": [
        "## LOG"
      ],
      "metadata": {
        "id": "h_xo2KmKU89V"
      }
    },
    {
      "cell_type": "markdown",
      "source": [
        "\n",
        "\n",
        "20/05 <br>\n",
        "14:45 Tabela atividade20 criada no postgres localhost <br>\n",
        "15:52 Collection atv20_bruto criada no Mongodb Atlas <br>\n",
        "20:16 Conversando com colegas de turma decidi utilizar um banco de dados postgres na nuvem para melhor simular o propósito do exercício<br>\n",
        "21/05<br>\n",
        "14:10 Criado um banco de dados postgres no Heroku<br>\n",
        "15:00 Criada a tabela sistema_a e importando os dados necessários através do uso do pgadmin<br>\n",
        "20:00 Criando a apresentação no canvas"
      ],
      "metadata": {
        "id": "gA24Tj_-k1-I"
      }
    }
  ]
}