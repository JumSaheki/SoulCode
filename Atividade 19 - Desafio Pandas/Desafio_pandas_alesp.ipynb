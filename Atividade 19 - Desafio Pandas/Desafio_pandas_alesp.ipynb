{
  "nbformat": 4,
  "nbformat_minor": 0,
  "metadata": {
    "colab": {
      "name": "Desafio_pandas_alesp.ipynb",
      "provenance": [],
      "collapsed_sections": [
        "s1UyPJCLpPBE",
        "ZwjSibr5prTX",
        "qebMo7AVpUlm",
        "qTqpmy7ApkIL",
        "sPhtrEDOqTtW",
        "KuMB_mOr8NpR",
        "N2bm7Yv6-uyE",
        "OJJWzjdDBTjQ"
      ]
    },
    "kernelspec": {
      "name": "python3",
      "display_name": "Python 3"
    },
    "language_info": {
      "name": "python"
    }
  },
  "cells": [
    {
      "cell_type": "markdown",
      "source": [
        "##Atividade desafio pandas\n",
        "\n",
        "Pegar a base de dados da Alesp(assembleia legislativa de são paulo) e realizar os tratamentos necessários com as seguintes diretrizes:\n",
        "- Utilizar obrigatoriamente pandas \n",
        "- Extrair diretamente do site o arquivo XML dos gastos e cadastros de cada deputado\n",
        "- Verificar e corrigir possíveis inconsistências nos dados que podem ser (Nomes diferentes para o mesmo item ex: TÁXI e taxi ) ou valores ausentes ou duplicidade de dados\n",
        "- verificar e contar os valores ausentes (NaN , NA , etc)\n",
        "- realizar insights onde mostrem os valores totais dos ultimos 4 anos dos valores gastos por cada deputado\n",
        "- mostrar os itens dos ultimos quatro anos onde se mais teve despesa \n",
        "- mostrar os 3 deputados que mais e menos gastam\n",
        "- realizar a conversão do dataframe para CSV e disponibiliza-lo em um bucket com acesso público\n",
        "- Os insights não se limitam aos pedidos acima , onde gostaríamos de pelo menos mais 2 \n",
        "- Os resultados podem ou não trazer plotagem(trate como não obrigatório ) mas é recomendado que traga\n",
        "- Montar uma pequena apresentação no próprio notebook trazendo uma organização e fluxo de ETL\n",
        "\n",
        "Integrantes: Jum Saheki, Ricardo Corsini\n"
      ],
      "metadata": {
        "id": "Xh3_gXu2pupN"
      }
    },
    {
      "cell_type": "markdown",
      "source": [
        "##INSTALL & IMPORTS"
      ],
      "metadata": {
        "id": "s1UyPJCLpPBE"
      }
    },
    {
      "cell_type": "code",
      "source": [
        "# gcsfs para criar conexão com a Google Cloud Platform e o Google drive\n",
        "!pip install gcsfs"
      ],
      "metadata": {
        "id": "LGX8f5SApGQv"
      },
      "execution_count": null,
      "outputs": []
    },
    {
      "cell_type": "code",
      "source": [
        "# Bibliotecas do google\n",
        "from google.cloud import storage\n",
        "from google.colab import drive\n",
        "import os"
      ],
      "metadata": {
        "id": "7wgGBvnVpcoI"
      },
      "execution_count": 363,
      "outputs": []
    },
    {
      "cell_type": "code",
      "execution_count": null,
      "metadata": {
        "id": "V8E3WUta8NI6"
      },
      "outputs": [],
      "source": [
        "# lib para conexão\n",
        "import requests\n",
        "\n",
        "# Modelagem de dados\n",
        "import pandas as pd\n",
        "\n",
        "# Ignorando avisos\n",
        "import warnings\n",
        "warnings.filterwarnings('ignore')"
      ]
    },
    {
      "cell_type": "code",
      "source": [
        "# Pandera para fazer a verificação dos dados\n",
        "!pip install pandera"
      ],
      "metadata": {
        "id": "yx1LzR7N_ers"
      },
      "execution_count": null,
      "outputs": []
    },
    {
      "cell_type": "code",
      "source": [
        "import pandera as pa\n",
        "from pandera.checks import Check"
      ],
      "metadata": {
        "id": "yx37JGbR_YKv"
      },
      "execution_count": 358,
      "outputs": []
    },
    {
      "cell_type": "markdown",
      "source": [
        "##CONEXÃO COM GCP E GOOGLE DRIVE"
      ],
      "metadata": {
        "id": "ZwjSibr5prTX"
      }
    },
    {
      "cell_type": "code",
      "source": [
        "# Estabelecendo conexão com o google drive para acessar a chave do GCP\n",
        "drive.mount('/content/drive')"
      ],
      "metadata": {
        "colab": {
          "base_uri": "https://localhost:8080/"
        },
        "id": "0NLOdLWVpzHf",
        "outputId": "f6abf372-7806-4a35-95ac-e32b6df33212"
      },
      "execution_count": 364,
      "outputs": [
        {
          "output_type": "stream",
          "name": "stdout",
          "text": [
            "Mounted at /content/drive\n"
          ]
        }
      ]
    },
    {
      "cell_type": "code",
      "source": [
        "# Configuração da chave de segurança\n",
        "serviceAccount = '/content/drive/MyDrive/Soul Code/macro-mercury-349020-d9ed9a670580.json'\n",
        "os.environ['GOOGLE_APPLICATION_CREDENTIALS'] = serviceAccount"
      ],
      "metadata": {
        "id": "C8LHSrqmp4bH"
      },
      "execution_count": 365,
      "outputs": []
    },
    {
      "cell_type": "code",
      "source": [
        "# Acesso ao bucket\n",
        "client = storage.Client()\n",
        "bucket = client.get_bucket('soulcode')"
      ],
      "metadata": {
        "id": "yOZsQQnkp6ov"
      },
      "execution_count": 366,
      "outputs": []
    },
    {
      "cell_type": "markdown",
      "source": [
        "## OBTENDO OS DADOS"
      ],
      "metadata": {
        "id": "qebMo7AVpUlm"
      }
    },
    {
      "cell_type": "code",
      "source": [
        "# URL da API da Alesp\n",
        "URL_Despesas = 'http://www.al.sp.gov.br/repositorioDados/deputados/despesas_gabinetes.xml'\n",
        "URL_Cadastro = 'https://www.al.sp.gov.br/repositorioDados/deputados/deputados.xml'"
      ],
      "metadata": {
        "id": "PY6fqY1_8oSU"
      },
      "execution_count": 367,
      "outputs": []
    },
    {
      "cell_type": "code",
      "source": [
        "# Pegando os dados\n",
        "Conexao_01 = requests.get( URL_Despesas )\n",
        "Conexao_02 = requests.get( URL_Cadastro )\n",
        "\n",
        "# Verificando se a API funcinou, o número 200 representa sucesso\n",
        "print( Conexao_01, Conexao_02 )"
      ],
      "metadata": {
        "colab": {
          "base_uri": "https://localhost:8080/"
        },
        "id": "16q3Ee7v8s8C",
        "outputId": "bc7e43ad-18ce-45a7-d086-61a3b429d4b5"
      },
      "execution_count": 368,
      "outputs": [
        {
          "output_type": "stream",
          "name": "stdout",
          "text": [
            "<Response [200]> <Response [200]>\n"
          ]
        }
      ]
    },
    {
      "cell_type": "code",
      "source": [
        "# Lendo arquivo xml\n",
        "df = pd.read_xml(Conexao_01.content)\n"
      ],
      "metadata": {
        "id": "8DeZHu2X-MdA"
      },
      "execution_count": 369,
      "outputs": []
    },
    {
      "cell_type": "code",
      "source": [
        "# Backup do DataFrame\n",
        "df2 = df.copy()"
      ],
      "metadata": {
        "id": "_lyDFu6cDaWj"
      },
      "execution_count": 379,
      "outputs": []
    },
    {
      "cell_type": "markdown",
      "source": [
        "##PRÉ ANÁLISE\n"
      ],
      "metadata": {
        "id": "qTqpmy7ApkIL"
      }
    },
    {
      "cell_type": "code",
      "source": [
        "# Removendo valores anteriores a 4 anos\n",
        "df2 = df2[(df2.Ano.isin([2019,2020,2021,2022]))]"
      ],
      "metadata": {
        "id": "VEhxtKcbR4us"
      },
      "execution_count": 381,
      "outputs": []
    },
    {
      "cell_type": "code",
      "source": [
        "# Removendo coluna Matrícula, pois ela serve apenas para identificar o deputado\n",
        "df2 = df2.drop(columns=['Matricula'])"
      ],
      "metadata": {
        "id": "vR4E78HQ1FaU"
      },
      "execution_count": 382,
      "outputs": []
    },
    {
      "cell_type": "code",
      "source": [
        "# Número de ocorrencias de linhas duplicadas\n",
        "df2.duplicated().sum()"
      ],
      "metadata": {
        "id": "5K8Icv2LH9sa"
      },
      "execution_count": null,
      "outputs": []
    },
    {
      "cell_type": "code",
      "source": [
        "# Número de ocorrencia de valores nulos em cada coluna\n",
        "df2.isna().sum()"
      ],
      "metadata": {
        "colab": {
          "base_uri": "https://localhost:8080/"
        },
        "id": "mNwJRinB_oLd",
        "outputId": "f3503d01-54c5-4d4a-f963-53f7a2c326b2"
      },
      "execution_count": 383,
      "outputs": [
        {
          "output_type": "execute_result",
          "data": {
            "text/plain": [
              "Ano             0\n",
              "Mes             0\n",
              "Valor           0\n",
              "CNPJ          825\n",
              "Deputado        0\n",
              "Tipo            0\n",
              "Fornecedor      0\n",
              "dtype: int64"
            ]
          },
          "metadata": {},
          "execution_count": 383
        }
      ]
    },
    {
      "cell_type": "code",
      "source": [
        "# Determinando quais são os registros nulos na coluna CNPJ\n",
        "invalidos = df2.CNPJ.isnull()\n",
        "ausente = df2.loc[invalidos]\n",
        "pd.unique(ausente['Fornecedor'])"
      ],
      "metadata": {
        "id": "RikRpQBTNEV-"
      },
      "execution_count": 384,
      "outputs": []
    },
    {
      "cell_type": "markdown",
      "source": [
        "Observa-se que os valores 'PEDÁGIO', 'PEDAGIO', 'PEDÁGIOS', 'CUPONS DE PEDÁGIO' se referem ao mesmo fornecedor\n"
      ],
      "metadata": {
        "id": "cJ88_TierU9X"
      }
    },
    {
      "cell_type": "code",
      "source": [
        "# Analisando os dados do fornecedor TAXI\n",
        "df2[df2['Fornecedor'] == 'TAXI']"
      ],
      "metadata": {
        "id": "aQhe9eWjgzGu"
      },
      "execution_count": null,
      "outputs": []
    },
    {
      "cell_type": "code",
      "source": [
        "# Quantos fornecedores TAXI possuem CNPJ nulos\n",
        "df2[df2['Fornecedor'] == 'TAXI'].isna().sum()"
      ],
      "metadata": {
        "id": "VxUSj6B4sRhw"
      },
      "execution_count": null,
      "outputs": []
    },
    {
      "cell_type": "markdown",
      "source": [
        "Todos os fornecedores do tipo 'TAXI' possuem CNPJ 'None'"
      ],
      "metadata": {
        "id": "RaQJwvqb7FT_"
      }
    },
    {
      "cell_type": "code",
      "source": [
        "# Analisando os CNPJs cujo fornecedor é do tipo Pedágio\n",
        "df2[df2['Fornecedor'] == 'PEDÁGIO']"
      ],
      "metadata": {
        "id": "GC4tmGcBaO-p"
      },
      "execution_count": null,
      "outputs": []
    },
    {
      "cell_type": "code",
      "source": [
        "df2[df2['Fornecedor'] == 'PEDÁGIO'].isna().sum()"
      ],
      "metadata": {
        "id": "jd_j2vMJuLW1"
      },
      "execution_count": null,
      "outputs": []
    },
    {
      "cell_type": "code",
      "source": [
        "df2[(df2['Fornecedor'] == 'PEDÁGIO') & (~df2['CNPJ'].isnull())]"
      ],
      "metadata": {
        "id": "n1LlmcrEu3Id"
      },
      "execution_count": null,
      "outputs": []
    },
    {
      "cell_type": "code",
      "source": [
        "df2[df2['Fornecedor'] == 'PEDAGIO']"
      ],
      "metadata": {
        "id": "kTlxMZWAt1Ek"
      },
      "execution_count": null,
      "outputs": []
    },
    {
      "cell_type": "code",
      "source": [
        "df2[df2['Fornecedor'] == 'PEDÁGIOS']"
      ],
      "metadata": {
        "id": "jNDz91qJt1ws"
      },
      "execution_count": null,
      "outputs": []
    },
    {
      "cell_type": "code",
      "source": [
        "df2[df2['Fornecedor'] == 'CUPONS DE PEDÁGIO']"
      ],
      "metadata": {
        "id": "54pYg9vKt2lj"
      },
      "execution_count": null,
      "outputs": []
    },
    {
      "cell_type": "markdown",
      "source": [
        "Os pedágios possuem CNPJ nulos, 0000000000000, 02509491000126, 02415408000150"
      ],
      "metadata": {
        "id": "2AQAHxfb7ca7"
      }
    },
    {
      "cell_type": "code",
      "source": [
        "# Verificando tipo de dados de cada coluna\n",
        "df2.dtypes"
      ],
      "metadata": {
        "id": "Onf-foqtsxgf"
      },
      "execution_count": null,
      "outputs": []
    },
    {
      "cell_type": "markdown",
      "source": [
        "##ANÁLISE"
      ],
      "metadata": {
        "id": "sPhtrEDOqTtW"
      }
    },
    {
      "cell_type": "markdown",
      "source": [
        "Procurando por valores inconsistentes"
      ],
      "metadata": {
        "id": "h75xh_338EPw"
      }
    },
    {
      "cell_type": "code",
      "source": [
        "sorted(pd.unique(df2['Ano']))"
      ],
      "metadata": {
        "id": "9pEr-E0AII5X"
      },
      "execution_count": null,
      "outputs": []
    },
    {
      "cell_type": "code",
      "source": [
        "sorted(pd.unique(df2['Mes']))"
      ],
      "metadata": {
        "id": "txL7uJ3CJfHA"
      },
      "execution_count": null,
      "outputs": []
    },
    {
      "cell_type": "code",
      "source": [
        "sorted(pd.unique(df2['Valor']))"
      ],
      "metadata": {
        "id": "YT4OKAcpJql2"
      },
      "execution_count": null,
      "outputs": []
    },
    {
      "cell_type": "code",
      "source": [
        "sorted(pd.unique(df2['Valor']),reverse=True)"
      ],
      "metadata": {
        "id": "kca8nC1p86-P"
      },
      "execution_count": null,
      "outputs": []
    },
    {
      "cell_type": "markdown",
      "source": [
        "As colunas com valores numéricos não apresentam inconsistências"
      ],
      "metadata": {
        "id": "5cXBlXtntGHT"
      }
    },
    {
      "cell_type": "code",
      "source": [
        "pd.unique(df2['CNPJ'])"
      ],
      "metadata": {
        "id": "7Xg2ZkqxJ3_Q"
      },
      "execution_count": null,
      "outputs": []
    },
    {
      "cell_type": "code",
      "source": [
        "pd.unique(df2['Deputado'])"
      ],
      "metadata": {
        "id": "VYR0fVK5KyxX"
      },
      "execution_count": null,
      "outputs": []
    },
    {
      "cell_type": "code",
      "source": [
        "sorted(pd.unique(df2['Tipo']))"
      ],
      "metadata": {
        "id": "5joEjJ8jLT-Q"
      },
      "execution_count": null,
      "outputs": []
    },
    {
      "cell_type": "code",
      "source": [
        "sorted(pd.unique(df2['Fornecedor']))"
      ],
      "metadata": {
        "id": "2Ik9n0iRLf59"
      },
      "execution_count": null,
      "outputs": []
    },
    {
      "cell_type": "markdown",
      "source": [
        "Na coluna Fornecedor há múltiplos valores semelhantes que possuem o mesmo CNPJ"
      ],
      "metadata": {
        "id": "Kza7sZKXuLVq"
      }
    },
    {
      "cell_type": "markdown",
      "source": [
        "##TRATAMENTO"
      ],
      "metadata": {
        "id": "KuMB_mOr8NpR"
      }
    },
    {
      "cell_type": "code",
      "source": [
        " #Determinando um CNPJ para fornecedor do tipo 'TAXI'\n",
        "df2.loc[df2['Fornecedor'] == 'TAXI', 'CNPJ'] = 1"
      ],
      "metadata": {
        "id": "yylDZXiZgcPW"
      },
      "execution_count": 389,
      "outputs": []
    },
    {
      "cell_type": "code",
      "source": [
        "#Determinado um CNPJ para fornecedor do tipo 'PEDÁGIO', 'PEDAGIO', 'PEDÁGIOS', 'CUPONS DE PEDÁGIO'\n",
        "df2.loc[df2['Fornecedor'] == 'PEDÁGIO', 'CNPJ'] = 2\n",
        "df2.loc[df2['Fornecedor'] == 'PEDAGIO', 'CNPJ'] = 2\n",
        "df2.loc[df2['Fornecedor'] == 'PEDÁGIOS', 'CNPJ'] = 2\n",
        "df2.loc[df2['Fornecedor'] == 'CUPONS DE PEDÁGIO', 'CNPJ'] = 2"
      ],
      "metadata": {
        "id": "5L0peXX0zvEN"
      },
      "execution_count": 390,
      "outputs": []
    },
    {
      "cell_type": "code",
      "source": [
        "# Verificando os valores nulos\n",
        "df2.isna().sum()"
      ],
      "metadata": {
        "id": "yevbZBfRunqp"
      },
      "execution_count": null,
      "outputs": []
    },
    {
      "cell_type": "code",
      "source": [
        "#Convertendo a coluna 'CNPJ' para o tipo int\n",
        "df2['CNPJ'] = df2['CNPJ'].astype(int)"
      ],
      "metadata": {
        "id": "5crXu3fmUa1M"
      },
      "execution_count": 392,
      "outputs": []
    },
    {
      "cell_type": "markdown",
      "source": [
        "## VERIFICAÇÃO"
      ],
      "metadata": {
        "id": "N2bm7Yv6-uyE"
      }
    },
    {
      "cell_type": "code",
      "source": [
        "df2.dtypes"
      ],
      "metadata": {
        "id": "QJCTZuSf_ni6"
      },
      "execution_count": null,
      "outputs": []
    },
    {
      "cell_type": "code",
      "source": [
        "schema = pa.DataFrameSchema( \n",
        "      columns= {\n",
        "        'Ano':pa.Column(pa.Int),\n",
        "        'Mes':pa.Column(pa.Int),\n",
        "        'Valor':pa.Column(pa.Float64),\n",
        "        'CNPJ':pa.Column(pa.Int),\n",
        "        'Deputado':pa.Column(pa.String),\n",
        "        'Tipo':pa.Column(pa.String),\n",
        "        'Fornecedor':pa.Column(pa.String)\n",
        "      }\n",
        ")"
      ],
      "metadata": {
        "id": "xtrxZERJ-0ne"
      },
      "execution_count": 398,
      "outputs": []
    },
    {
      "cell_type": "code",
      "source": [
        "schema.validate(df2)"
      ],
      "metadata": {
        "id": "uFI0LjPDA-OY"
      },
      "execution_count": null,
      "outputs": []
    },
    {
      "cell_type": "markdown",
      "source": [
        "##INSIGHTS\n"
      ],
      "metadata": {
        "id": "OJJWzjdDBTjQ"
      }
    },
    {
      "cell_type": "markdown",
      "source": [
        "mostrar os 3 deputados que mais e menos gastam"
      ],
      "metadata": {
        "id": "xa7kUI9SEgKt"
      }
    },
    {
      "cell_type": "code",
      "source": [
        "dep_mais = df2.groupby(['Deputado']).Valor.sum().sort_values(ascending=False).head(3)\n",
        "dep_mais"
      ],
      "metadata": {
        "id": "fHMgWLQ6BenX"
      },
      "execution_count": null,
      "outputs": []
    },
    {
      "cell_type": "code",
      "source": [
        "dep_mais.plot.bar(xlabel=\"Deputados\",ylabel=\"Gastos\",title=\"Deputados que mais gastam\",grid=True,color=['y','black','purple'])"
      ],
      "metadata": {
        "id": "ZZ6IYPs9xxoa"
      },
      "execution_count": null,
      "outputs": []
    },
    {
      "cell_type": "markdown",
      "source": [
        ""
      ],
      "metadata": {
        "id": "Xye1Weeqy2Zo"
      }
    },
    {
      "cell_type": "code",
      "source": [
        "dep_menos = df2.groupby(['Deputado']).Valor.sum().sort_values().head(3)\n",
        "dep_menos"
      ],
      "metadata": {
        "id": "qsoDGAe2DtL4"
      },
      "execution_count": null,
      "outputs": []
    },
    {
      "cell_type": "code",
      "source": [
        "dep_menos.plot.bar(xlabel=\"Deputados\",ylabel=\"Gastos\",title=\"Deputados que menos gastam\",color=['r','g','b'],grid=True)"
      ],
      "metadata": {
        "id": "KYInRyccyCE0"
      },
      "execution_count": null,
      "outputs": []
    },
    {
      "cell_type": "markdown",
      "source": [
        "Mostrar os itens dos ultimos quatro anos onde se mais teve despesa"
      ],
      "metadata": {
        "id": "UuScsMqLEi3V"
      }
    },
    {
      "cell_type": "code",
      "source": [
        "cnpj_mais = df2.groupby(['CNPJ']).Valor.sum().sort_values(ascending=False).head(10)\n",
        "cnpj_mais"
      ],
      "metadata": {
        "id": "xxkMnFxaCLMP"
      },
      "execution_count": null,
      "outputs": []
    },
    {
      "cell_type": "code",
      "source": [
        "cnpj_mais.plot.bar(xlabel=\"Deputados\",ylabel=\"Gastos\",title=\"Itens mais utilizados\",grid=True, color=['g','b','black','yellow','r'])"
      ],
      "metadata": {
        "id": "9HrMmqMXzMdy"
      },
      "execution_count": null,
      "outputs": []
    },
    {
      "cell_type": "markdown",
      "source": [
        "Itens com menos despesas"
      ],
      "metadata": {
        "id": "u6QuqeBz9QQX"
      }
    },
    {
      "cell_type": "code",
      "source": [
        "cnpj_menos = df2.groupby(['CNPJ','Fornecedor']).Valor.sum().sort_values(ascending=False).head(10)\n",
        "cnpj_menos"
      ],
      "metadata": {
        "id": "LZlEIbFMMSbU"
      },
      "execution_count": null,
      "outputs": []
    },
    {
      "cell_type": "code",
      "source": [
        "cnpj_menos.plot.bar(xlabel=\"Deputados\",ylabel=\"Gastos\",title=\"Itens menos utilizados\",grid=True, color=['r','g','b','y'])"
      ],
      "metadata": {
        "id": "JlAANyiYzbKH"
      },
      "execution_count": null,
      "outputs": []
    },
    {
      "cell_type": "markdown",
      "source": [
        "Progressão de gastos de ano a ano"
      ],
      "metadata": {
        "id": "21ivxEwl9Z4H"
      }
    },
    {
      "cell_type": "code",
      "source": [
        "ano_gastos = df2.groupby('Ano').Valor.sum()\n",
        "ano_gastos"
      ],
      "metadata": {
        "id": "VGNWJ7F1z9iy"
      },
      "execution_count": null,
      "outputs": []
    },
    {
      "cell_type": "code",
      "source": [
        "ano_gastos.plot.line(xlabel=\"Ano\",ylabel=\"Gastos\",title=\"Progressão de gastos\",grid=True)"
      ],
      "metadata": {
        "id": "4gjVekZd01mS"
      },
      "execution_count": null,
      "outputs": []
    },
    {
      "cell_type": "markdown",
      "source": [
        "Gastos por tipo"
      ],
      "metadata": {
        "id": "ArtN9Mhs9h8D"
      }
    },
    {
      "cell_type": "code",
      "source": [
        "tipo_gasto = df2.groupby('Tipo').Valor.sum().sort_values()\n",
        "tipo_gasto"
      ],
      "metadata": {
        "id": "DRJOZ3Ly2b6D"
      },
      "execution_count": null,
      "outputs": []
    },
    {
      "cell_type": "code",
      "source": [
        "tipo_gasto.plot(xlabel='Tipo',ylabel='Gastos',title='Tipo mais gastos', kind='barh',grid=True)"
      ],
      "metadata": {
        "id": "OQv8Jrkq3ilS"
      },
      "execution_count": null,
      "outputs": []
    },
    {
      "cell_type": "markdown",
      "source": [
        "## ENVIANDO O DATAFRAME EM FORMATO CSV PARA A BUCKET NO GCP"
      ],
      "metadata": {
        "id": "hhUr2mvarMz5"
      }
    },
    {
      "cell_type": "code",
      "source": [
        "df2.to_csv('gs://soulcode/Tratado/alesp.csv')"
      ],
      "metadata": {
        "id": "Bdrdqzi7rTLT"
      },
      "execution_count": 400,
      "outputs": []
    }
  ]
}